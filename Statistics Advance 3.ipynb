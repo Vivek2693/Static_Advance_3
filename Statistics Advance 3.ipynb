{
 "cells": [
  {
   "cell_type": "markdown",
   "id": "b26b9aff",
   "metadata": {},
   "source": [
    "### Q1: What is Estimation Statistics? Explain point estimate and interval estimate.\n",
    "\n",
    "Estimation statistics involves using sample data to estimate population parameters. A point estimate is a single value used to estimate a population parameter. For example, using the sample mean to estimate the population mean. An interval estimate, on the other hand, provides a range of values within which the population parameter is likely to lie. For instance, a confidence interval for the population mean."
   ]
  },
  {
   "cell_type": "markdown",
   "id": "ac9a1a36",
   "metadata": {},
   "source": [
    "### Q2: Write a Python function to estimate the population mean using a sample mean and standard deviation."
   ]
  },
  {
   "cell_type": "code",
   "execution_count": 5,
   "id": "af19c1fc",
   "metadata": {},
   "outputs": [
    {
     "name": "stdout",
     "output_type": "stream",
     "text": [
      "Estimated population mean: 10\n"
     ]
    }
   ],
   "source": [
    "def estimate_population_mean(sample_mean, sample_std, sample_size):\n",
    "    import math\n",
    "    # Calculate standard error\n",
    "    standard_error = sample_std / math.sqrt(sample_size)\n",
    "    # Calculate population mean estimate\n",
    "    population_mean_estimate = sample_mean\n",
    "    return population_mean_estimate\n",
    "\n",
    "# Example usage\n",
    "sample_mean = 10\n",
    "sample_std = 2\n",
    "sample_size = 100\n",
    "population_mean_estimate = estimate_population_mean(sample_mean, sample_std, sample_size)\n",
    "print(\"Estimated population mean:\", population_mean_estimate)\n"
   ]
  },
  {
   "cell_type": "markdown",
   "id": "6cd1f367",
   "metadata": {},
   "source": [
    "### Q3: What is Hypothesis testing? Why is it used? State the importance of Hypothesis testing.\n",
    "\n",
    "Hypothesis testing is a statistical method used to make inferences about population parameters based on sample data. It's used to evaluate the validity of a hypothesis by testing whether observed results are statistically significant or due to chance variation. Hypothesis testing helps researchers make decisions and draw conclusions about population parameters from sample data.\n",
    "\n",
    "### Q4: Create a hypothesis that states whether the average weight of male college students is greater than the average weight of female college students.\n",
    "\n",
    "Null Hypothesis (H0): The average weight of male college students is equal to or less than the average weight of female college students.\n",
    "Alternative Hypothesis (H1): The average weight of male college students is greater than the average weight of female college students."
   ]
  },
  {
   "cell_type": "markdown",
   "id": "87c41b29",
   "metadata": {},
   "source": [
    "### Q5: Write a Python script to conduct a hypothesis test on the difference between two population means, given a sample from each population."
   ]
  },
  {
   "cell_type": "code",
   "execution_count": 8,
   "id": "4104cb4f",
   "metadata": {},
   "outputs": [
    {
     "name": "stdout",
     "output_type": "stream",
     "text": [
      "T-statistic: -1.0\n",
      "P-value: 0.34659350708733416\n"
     ]
    }
   ],
   "source": [
    "# Method 1:\n",
    "\n",
    "def two_sample_t_test(sample1, sample2):\n",
    "    from scipy import stats\n",
    "    # Perform two-sample t-test\n",
    "    t_statistic, p_value = stats.ttest_ind(sample1, sample2)\n",
    "    return t_statistic, p_value\n",
    "\n",
    "# Example usage\n",
    "sample1 = [1, 2, 3, 4, 5]\n",
    "sample2 = [2, 3, 4, 5, 6]\n",
    "t_stat, p_val = two_sample_t_test(sample1, sample2)\n",
    "print(\"T-statistic:\", t_stat)\n",
    "print(\"P-value:\", p_val)\n"
   ]
  },
  {
   "cell_type": "code",
   "execution_count": null,
   "id": "6dc848f7",
   "metadata": {},
   "outputs": [],
   "source": [
    "# Function for two-sample t-test\n",
    "    from scipy import stats\n",
    "\n",
    "def two_sample_t_test(sample1, sample2, alpha=0.05):\n",
    "    \n",
    "    from scipy import stats\n",
    "\n",
    "      \"\"\"\n",
    "      Conducts a two-sample t-test for independent samples with equal size.\n",
    "\n",
    "      Args:\n",
    "          sample1 (list or np.array): The first sample data.\n",
    "          sample2 (list or np.array): The second sample data.\n",
    "          alpha (float, optional): The significance level. Defaults to 0.05.\n",
    "\n",
    "      Returns:\n",
    "          tuple: A tuple containing the t-statistic, p-value, and a flag indicating rejection of the null hypothesis.\n",
    "      \"\"\"\n",
    "t_statistic, p_value = stats.ttest_ind(sample1, sample2, equal_var=False)\n",
    "reject_null_hypothesis = p_value < alpha\n",
    "return t_statistic, p_value, reject_null_hypothesis\n"
   ]
  },
  {
   "cell_type": "code",
   "execution_count": 21,
   "id": "4aeed357",
   "metadata": {},
   "outputs": [
    {
     "name": "stdout",
     "output_type": "stream",
     "text": [
      "t-statistic: 2.2691267417693437\n",
      "p-value: 0.1094429989380814\n",
      "Fail to reject null hypothesis. Insufficient evidence to conclude a difference (p-value = 0.1094)\n"
     ]
    }
   ],
   "source": [
    "def two_sample_t_test(sample1, sample2, alpha=0.05):\n",
    "    \n",
    "    from scipy import stats\n",
    "\n",
    "    \n",
    "    t_statistic, p_value = stats.ttest_ind(sample1, sample2, equal_var=False)\n",
    "    reject_null_hypothesis = p_value < alpha\n",
    "    return t_statistic, p_value, reject_null_hypothesis\n",
    "\n",
    "\n",
    "\n",
    "\n",
    "sample1 = [70, 75, 80]  # Sample 1 data\n",
    "sample2 = [65, 70, 68]  # Sample 2 data\n",
    "\n",
    "t_statistic, p_value, reject_null_hypothesis = two_sample_t_test(sample1, sample2)\n",
    "\n",
    "print(\"t-statistic:\", t_statistic)\n",
    "print(\"p-value:\", p_value)\n",
    "\n",
    "\n",
    "if reject_null_hypothesis:\n",
    "     print(\"Reject null hypothesis. Statistically significant difference between means (p-value = {:.4f})\".format(p_value))\n",
    "else:\n",
    "     print(\"Fail to reject null hypothesis. Insufficient evidence to conclude a difference (p-value = {:.4f})\".format(p_value))\n"
   ]
  },
  {
   "cell_type": "markdown",
   "id": "d9c7a766",
   "metadata": {},
   "source": [
    "### Q6: What is a null and alternative hypothesis? Give some examples.\n",
    "\n",
    "The null hypothesis (H0) is a statement that there is no significant difference or effect, often a default assumption. The alternative hypothesis (H1) contradicts the null hypothesis, suggesting that there is a significant difference or effect. Examples:\n",
    "\n",
    "Null: There is no difference in exam scores between students who study with music and those who study in silence.\n",
    "Alternative: Studying with music significantly affects exam scores compared to studying in silence.\n",
    "\n",
    "### Q7: Write down the steps involved in hypothesis testing.\n",
    "\n",
    "        Formulate the null and alternative hypotheses.\n",
    "\n",
    "        Choose the appropriate statistical test.\n",
    "\n",
    "        Determine the significance level (alpha).\n",
    "\n",
    "        Collect and analyze the data.\n",
    "\n",
    "        Calculate the test statistic.\n",
    "\n",
    "        Determine the critical value or p-value.\n",
    "\n",
    "        Make a decision to either reject or fail to reject the null hypothesis.\n",
    "\n",
    "        Draw conclusions based on the decision.\n",
    "\n",
    "### Q8: Define p-value and explain its significance in hypothesis testing.\n",
    "\n",
    "The p-value is the probability of observing a test statistic as extreme as, or more extreme than, the one observed in the sample data, assuming that the null hypothesis is true. It helps determine the strength of evidence against the null hypothesis. A smaller p-value indicates stronger evidence against the null hypothesis, suggesting that it should be rejected."
   ]
  },
  {
   "cell_type": "markdown",
   "id": "8029fd27",
   "metadata": {},
   "source": [
    "## Q9: Generate a Student's t-distribution plot using Python's matplotlib library, with the degrees of freedom parameter set to 10."
   ]
  },
  {
   "cell_type": "code",
   "execution_count": 10,
   "id": "1fc4d24e",
   "metadata": {},
   "outputs": [
    {
     "data": {
      "image/png": "[encoded data removed]",
      "text/plain": [
       "<Figure size 640x480 with 1 Axes>"
      ]
     },
     "metadata": {},
     "output_type": "display_data"
    }
   ],
   "source": [
    "import numpy as np\n",
    "import matplotlib.pyplot as plt\n",
    "from scipy.stats import t\n",
    "\n",
    "df = 10  # Degrees of freedom\n",
    "x = np.linspace(t.ppf(0.001, df), t.ppf(0.999, df), 100)\n",
    "plt.plot(x, t.pdf(x, df))\n",
    "plt.title(\"Student's t-Distribution (df=10)\")\n",
    "plt.xlabel(\"x\")\n",
    "plt.ylabel(\"Probability Density\")\n",
    "plt.grid(True)\n",
    "plt.show()\n"
   ]
  },
  {
   "cell_type": "markdown",
   "id": "d03fd3bd",
   "metadata": {},
   "source": [
    "    ppf stands for Percent Point Function, and pdf stands for Probability Density Function. These are functions provided by the scipy.stats.t module for working with Student's t-distribution.\n",
    "\n",
    "ppf(q, df): Percent Point Function (Inverse of Cumulative Distribution Function) returns the value corresponding to the given cumulative probability q for a specified degrees of freedom df. In simpler terms, it helps find the value on the x-axis for a given probability. Here, I used it to generate evenly spaced values for x between the 0.1st and 99.9th percentiles of the t-distribution.\n",
    "\n",
    "pdf(x, df): Probability Density Function returns the probability density at the specified value x for a given degrees of freedom df. It helps to visualize the shape of the probability distribution. In this case, it's used to plot the probability density curve of the t-distribution.\n",
    "\n",
    "By using these functions together, we can generate a plot that illustrates the probability density of the t-distribution for a specified degrees of freedom. This helps in understanding the distribution and its characteristics, which is useful in statistical inference and hypothesis testing."
   ]
  },
  {
   "cell_type": "markdown",
   "id": "9f71d4a9",
   "metadata": {},
   "source": [
    "### Q10: Write a Python program to calculate the two-sample t-test for independent samples, given two random samples of equal size and a null hypothesis that the population means are equal."
   ]
  },
  {
   "cell_type": "code",
   "execution_count": 11,
   "id": "b6fb0756",
   "metadata": {},
   "outputs": [
    {
     "name": "stdout",
     "output_type": "stream",
     "text": [
      "T-statistic: -1.0\n",
      "P-value: 0.34659350708733416\n"
     ]
    }
   ],
   "source": [
    "def two_sample_t_test(sample1, sample2):\n",
    "    from scipy import stats\n",
    "    # Perform two-sample t-test\n",
    "    t_statistic, p_value = stats.ttest_ind(sample1, sample2)\n",
    "    return t_statistic, p_value\n",
    "\n",
    "# Example usage\n",
    "sample1 = [1, 2, 3, 4, 5]\n",
    "sample2 = [2, 3, 4, 5, 6]\n",
    "t_stat, p_val = two_sample_t_test(sample1, sample2)\n",
    "print(\"T-statistic:\", t_stat)\n",
    "print(\"P-value:\", p_val)\n"
   ]
  },
  {
   "cell_type": "markdown",
   "id": "8951f47a",
   "metadata": {},
   "source": [
    "### Q11: What is Student’s t distribution? When to use the t-Distribution.\n",
    "\n",
    "The Student's t-distribution is a probability distribution that arises from estimating the mean of a normally distributed population when the sample size is small and/or the population standard deviation is unknown. It is similar to the standard normal distribution but has heavier tails, which makes it more suitable for small sample sizes. The t-distribution is commonly used in hypothesis testing and constructing confidence intervals for population parameters when the sample size is small or the population standard deviation is unknown.\n",
    "\n",
    "### Q12: What is t-statistic? State the formula for t-statistic.\n",
    "\n",
    "The t-statistic is a measure used in hypothesis testing to determine if there is a significant difference between the means of two groups. The formula for the t-statistic depends on the context of the hypothesis test being performed. For a one-sample t-test, where we're comparing the sample mean to a known population mean, the formula is:"
   ]
  },
  {
   "cell_type": "markdown",
   "id": "a64b8438",
   "metadata": {},
   "source": [
    "\\begin{equation}\n",
    "t = \\frac{\\overline{x} - \\mu}{s/\\sqrt{n}}\n",
    "\\end{equation}\n"
   ]
  },
  {
   "cell_type": "markdown",
   "id": "b5caf8fd",
   "metadata": {},
   "source": [
    "\\begin{equation}: Starts a displayed equation environment, aligning the equation horizontally on the center.\n",
    "t =: Defines the equation with the variable t on the left-hand side and an equals sign leading to the expression on the right-hand side.\n",
    "\\frac{...}{...}: Creates a fraction with the numerator and denominator enclosed in curly braces.\n",
    "\\overline{x}: Represents the sample mean using the \\overline command for a bar over x.\n",
    "- \\mu: Subtracts the population mean (\\mu) from the sample mean.\n",
    "s/\\sqrt{n}: Divides the sample standard deviation (s) by the square root of the sample size (n).\n",
    "\\sqrt{...}: Creates a square root symbol around the expression in curly braces (n).\n",
    "\\end{equation}: Ends the displayed equation environment."
   ]
  },
  {
   "cell_type": "markdown",
   "id": "4f787484",
   "metadata": {},
   "source": [
    "### Q13: A coffee shop owner wants to estimate the average daily revenue for their shop. They take a random sample of 50 days and find the sample mean revenue to be $500 with a standard deviation of $50. Estimate the population mean revenue with a 95% confidence interval."
   ]
  },
  {
   "cell_type": "markdown",
   "id": "1b20ac5f",
   "metadata": {},
   "source": [
    "**Confidence Interval for Population Mean Revenue**\n",
    "\n",
    "**Given:**\n",
    "\n",
    "- Sample mean ($\\overline{x}$): \\$500\n",
    "- Sample standard deviation ($s$): \\$50\n",
    "- Sample size ($n$): 50\n",
    "- Confidence level: 95%\n",
    "\n",
    "The confidence interval for the population mean is calculated using the formula:\n",
    "\n",
    "\\begin{equation}\n",
    "\\text{Confidence Interval} = \\overline{x} \\pm \\left( z \\cdot \\frac{s}{\\sqrt{n}} \\right)\n",
    "\\end{equation}\n",
    "\n",
    "where:\n",
    "\n",
    "- $z$ is the critical value from the standard normal distribution corresponding to the desired confidence level.\n",
    "- For a 95% confidence level, $z \\approx 1.96$.\n",
    "\n",
    "**Substituting the Values:**\n",
    "\n",
    "\\begin{equation}\n",
    "\\text{Confidence Interval} = \\$500 \\pm \\left( 1.96 \\cdot \\frac{\\$50}{\\sqrt{50}} \\right)\n",
    "\\end{equation}\n",
    "\n",
    "**Simplifying:**\n",
    "\n",
    "\\begin{equation}\n",
    "\\text{Confidence Interval} = \\$500 \\pm \\left( 1.96 \\cdot \\$7.07 \\right)\n",
    "\\end{equation}\n",
    "\n",
    "**Calculating the Interval:**\n",
    "\n",
    "\\begin{equation}\n",
    "\\text{Confidence Interval} = \\$500 \\pm \\$13.85\n",
    "\\end{equation}\n",
    "\n",
    "Therefore, the 95% confidence interval for the population mean revenue is approximately $\\boxed{\\$500 \\pm \\$13.85}$, or from approximately $\\boxed{\\$486.15}$ to $\\boxed{\\$513.85}$.\n"
   ]
  },
  {
   "cell_type": "markdown",
   "id": "1c019562",
   "metadata": {},
   "source": [
    "### Q14: A researcher hypothesizes that a new drug will decrease blood pressure by 10 mmHg. They conduct a clinical trial with 100 patients and find that the sample mean decrease in blood pressure is 8 mmHg with a standard deviation of 3 mmHg. Test the hypothesis with a significance level of 0.05."
   ]
  },
  {
   "cell_type": "markdown",
   "id": "3aa92db0",
   "metadata": {},
   "source": [
    "    **Blood Pressure Drug Hypothesis Test (Z-Test)**\n",
    "\n",
    "**Given:**\n",
    "\n",
    "- Hypothesized mean decrease ($\\mu$): 10 mmHg\n",
    "- Sample mean decrease ($\\overline{x}$): 8 mmHg\n",
    "- Population standard deviation ($\\sigma$): 3 mmHg\n",
    "- Sample size ($n$): 100\n",
    "- Significance level ($\\alpha$): 0.05\n",
    "\n",
    "**Z-Test for Large Sample or Known Population Standard Deviation**\n",
    "\n",
    "Since we have a large sample size ($n = 100$) and the population standard deviation ($\\sigma$ ) is known, we can perform a z-test. Here's the formula:\n",
    "\n",
    "\\begin{equation}\n",
    "z = \\frac{\\overline{x} - \\mu}{\\sigma / \\sqrt{n}}\n",
    "\\end{equation}\n",
    "\n",
    "**Substituting the Values:**\n",
    "\n",
    "\\begin{equation}\n",
    "z = \\frac{8 - 10}{3 / \\sqrt{100}} = \\frac{-2}{3/10} = -6.67\n",
    "\\end{equation}\n",
    "\n",
    "**Critical Value and Decision Rule:**\n",
    "\n",
    "For a two-tailed test with a significance level of $\\alpha = 0.05$, we need the critical value at $\\alpha/2 = 0.025$. Using a standard normal distribution table or calculator, we find $z_{\\alpha/2} \\approx -1.96$.\n",
    "\n",
    "- If $|z| > z_{\\alpha/2}$ (i.e., absolute value of calculated $z$ is greater than critical $z$), reject the null hypothesis.\n",
    "- If $|z| \\leq z_{\\alpha/2}$, fail to reject the null hypothesis.\n",
    "\n",
    "**Results:**\n",
    "\n",
    "Our calculated $z$ value (-6.67) is less than the negative critical value (-1.96). Since the absolute value of our $z$ is greater than the critical $z$, we **reject the null hypothesis**.\n",
    "\n",
    "**Conclusion:**\n",
    "\n",
    "At a significance level of 0.05, there is sufficient evidence to conclude that the new drug does decrease blood pressure by more than 10 mmHg.\n"
   ]
  },
  {
   "cell_type": "markdown",
   "id": "dabd2572",
   "metadata": {},
   "source": [
    "### Q15: An electronics company produces a certain type of product with a mean weight of 5 pounds and a standard deviation of 0.5 pounds. A random sample of 25 products is taken, and the sample mean weight is found to be 4.8 pounds. Test the hypothesis that the true mean weight of the products is less than 5 pounds with a significance level of 0.01."
   ]
  },
  {
   "cell_type": "markdown",
   "id": "048c40db",
   "metadata": {},
   "source": [
    "**Hypothesis Testing - Electronics Product Weight (One-Sample T-Test)**\n",
    "\n",
    "**Given:**\n",
    "\n",
    "- Population mean weight ($\\mu$): 5 pounds\n",
    "- Population standard deviation ($\\sigma$): 0.5 pounds\n",
    "- Sample mean weight ($\\overline{x}$): 4.8 pounds\n",
    "- Sample size ($n$): 25\n",
    "- Significance level ($\\alpha$): 0.01\n",
    "\n",
    "**Testing with One-Sample T-Test:**\n",
    "\n",
    "Since the population standard deviation ($\\sigma$) is known, we use a one-sample t-test to compare the sample mean ($\\overline{x}$) with the hypothesized population mean ($\\mu$).\n"
   ]
  },
  {
   "cell_type": "markdown",
   "id": "fb113646",
   "metadata": {},
   "source": [
    "### Q.16"
   ]
  },
  {
   "cell_type": "markdown",
   "id": "1ad6d9a5",
   "metadata": {},
   "source": [
    "**Hypothesis Testing - Student Test Scores (Two-Sample T-Test)**\n",
    "\n",
    "**Given:**\n",
    "\n",
    "- Group 1:\n",
    "    - Sample size ($n_1$): 30\n",
    "    - Sample mean score ($\\overline{x}_1$): 80\n",
    "    - Sample standard deviation ($s_1$): 10\n",
    "- Group 2:\n",
    "    - Sample size ($n_2$): 40\n",
    "    - Sample mean score ($\\overline{x}_2$): 75\n",
    "    - Sample standard deviation ($s_2$): 8\n",
    "- Significance level ($\\alpha$): 0.01\n",
    "\n",
    "**Testing with Two-Sample T-Test:**\n",
    "\n",
    "Since we have two independent samples with different sizes, we use a two-sample t-test to compare the population means (μ₁ and μ₂).\n"
   ]
  },
  {
   "cell_type": "markdown",
   "id": "02898b2e",
   "metadata": {},
   "source": [
    "### Q17: A marketing company wants to estimate the average number of ads watched by viewers during a TV program. They take a random sample of 50 viewers and find that the sample mean is 4 with a standard deviation of 1.5. Estimate the population mean with a 99% confidence interval"
   ]
  },
  {
   "cell_type": "markdown",
   "id": "911b3157",
   "metadata": {},
   "source": [
    "**Confidence Interval for Average Ads Watched**\n",
    "\n",
    "**Given:**\n",
    "\n",
    "- Sample mean ($\\overline{x}$): 4 ads\n",
    "- Sample standard deviation ($s$): 1.5 ads\n",
    "- Sample size ($n$): 50 viewers\n",
    "- Confidence level: 99%\n",
    "\n",
    "**Formula for Confidence Interval:**\n",
    "\n",
    "The confidence interval for the population mean (μ) is calculated using the formula:\n",
    "\n",
    "\\begin{equation}\n",
    "\\text{Confidence Interval} = \\overline{x} \\pm \\left( z \\cdot \\frac{s}{\\sqrt{n}} \\right)\n",
    "\\end{equation}\n",
    "\n",
    "where:\n",
    "\n",
    "- $z$ is the critical value from the standard normal distribution corresponding to the desired confidence level.\n",
    "- For a 99% confidence level, we need the critical value at $\\alpha/2 = 0.005$ (since it's a two-tailed test).\n",
    "\n",
    "**Finding the Critical Value (z):**\n",
    "\n",
    "Using a standard normal distribution table or calculator, we find $z_{0.005} \\approx 2.576$.\n",
    "\n",
    "**Calculating the Confidence Interval:**\n",
    "\n",
    "\\begin{equation}\n",
    "\\text{Confidence Interval} = 4 \\pm \\left( 2.576 \\cdot \\frac{1.5}{\\sqrt{50}} \\right)\n",
    "\\end{equation}\n",
    "\n",
    "**Simplifying:**\n",
    "\n",
    "\\begin{equation}\n",
    "\\text{Confidence Interval} \\approx 4 \\pm 0.77\n",
    "\\end{equation}\n",
    "\n",
    "**Interpretation:**\n",
    "\n",
    "The confidence interval is approximately (4 - 0.77, 4 + 0.77), which translates to (3.23, 4.77) ads.\n",
    "\n",
    "**Conclusion:**\n",
    "\n",
    "We can be 99% confident that the true average number of ads watched by viewers during the TV program falls within the range of 3.23 to 4.77 ads.\n"
   ]
  },
  {
   "cell_type": "code",
   "execution_count": null,
   "id": "2321810c",
   "metadata": {},
   "outputs": [],
   "source": []
  }
 ],
 "metadata": {
  "kernelspec": {
   "display_name": "Python 3 (ipykernel)",
   "language": "python",
   "name": "python3"
  },
  "language_info": {
   "codemirror_mode": {
    "name": "ipython",
    "version": 3
   },
   "file_extension": ".py",
   "mimetype": "text/x-python",
   "name": "python",
   "nbconvert_exporter": "python",
   "pygments_lexer": "ipython3",
   "version": "3.10.9"
  }
 },
 "nbformat": 4,
 "nbformat_minor": 5
}
